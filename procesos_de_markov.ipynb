{
  "nbformat": 4,
  "nbformat_minor": 0,
  "metadata": {
    "colab": {
      "private_outputs": true,
      "provenance": [],
      "gpuType": "T4",
      "authorship_tag": "ABX9TyMOtwVb4kHlILwt1e9J5eZh",
      "include_colab_link": true
    },
    "kernelspec": {
      "name": "python3",
      "display_name": "Python 3"
    },
    "language_info": {
      "name": "python"
    }
  },
  "cells": [
    {
      "cell_type": "markdown",
      "metadata": {
        "id": "view-in-github",
        "colab_type": "text"
      },
      "source": [
        "<a href=\"https://colab.research.google.com/github/rodr1ggoql17/Procesamiento-Lenguaje-Natural/blob/main/procesos_de_markov.ipynb\" target=\"_parent\"><img src=\"https://colab.research.google.com/assets/colab-badge.svg\" alt=\"Open In Colab\"/></a>"
      ]
    },
    {
      "cell_type": "markdown",
      "source": [
        "# Introducción a los modelos de Markov en PLN\n",
        "\n",
        "Andrey Markov desarrollo una teoría que con el tiempo los sistemas cambian con el tiempo (modelos de Markov)\n",
        "\n",
        "# Donde aplicamos el modelo\n",
        "\n",
        "\n",
        "*   Finanzas, para predecir los altos y bajos del mercado\n",
        "*   Aprendizaje por refuerzo\n",
        "*   Modelos ocultos de markov\n",
        "*   Cadena de Markov Monte Carlo (MCMC), rastrear la evolucion genetica\n",
        "\n",
        "\n",
        "\n",
        "# Propiedad fundamental de los Modelos de Markov\n",
        "\n",
        "*   Si voy a pasar de un estado a otro, no importan los antecedentes\n",
        "\n",
        "\n",
        "# Estructura y entrenamiento de un modelo de Markov\n",
        "\n",
        "*  Definición y componentes del modelo\n",
        "*  Matriz de transición de estados\n",
        "*  Entrenamiento del modelo\n",
        "\n",
        "Resumen: Estoy en un estado, ¿cual es la probabilidad de que pase a otro estado?\n",
        "\n",
        "\n"
      ],
      "metadata": {
        "id": "0Rmy-_YNRm5R"
      }
    },
    {
      "cell_type": "markdown",
      "source": [
        "#Ejemplo\n",
        "Construcción de un generador de texto / clasificador de texto\n",
        "\n",
        "\n"
      ],
      "metadata": {
        "id": "VLofQ_gDZA2B"
      }
    },
    {
      "cell_type": "code",
      "source": [
        "from google.colab import drive\n",
        "drive.mount('/content/drive/')"
      ],
      "metadata": {
        "id": "5HBqYq3NlIGl"
      },
      "execution_count": null,
      "outputs": []
    },
    {
      "cell_type": "code",
      "source": [
        "!pip install -U scikit-learn"
      ],
      "metadata": {
        "id": "K2rRazsjmKjK"
      },
      "execution_count": null,
      "outputs": []
    },
    {
      "cell_type": "code",
      "source": [
        "import numpy as np\n",
        "import matplotlib.pyplot as plt\n",
        "import string\n",
        "from sklearn.model_selection import train_test_split"
      ],
      "metadata": {
        "id": "H_IAuJrtl4Th"
      },
      "execution_count": null,
      "outputs": []
    },
    {
      "cell_type": "code",
      "source": [
        "archivos = [\n",
        "    '/content/drive/MyDrive/CURSO NLP/data/Copia de Benedetti.txt',\n",
        "    '/content/drive/MyDrive/CURSO NLP/data/Copia de Neruda.txt'\n",
        "]"
      ],
      "metadata": {
        "id": "Kc0OAGp3mtJy"
      },
      "execution_count": null,
      "outputs": []
    },
    {
      "cell_type": "code",
      "source": [
        "textos = []\n",
        "etiquetas = []\n",
        "\n",
        "for etiqueta, f in enumerate(archivos):\n",
        "    print(f\"{f} Corresponde a {etiqueta}\")\n",
        "\n",
        "    with open(f, 'r', encoding='utf-8') as archivo:\n",
        "        for line in archivo:\n",
        "            print(line)\n",
        "            line = line.rstrip().lower()\n",
        "            print(line)\n",
        "            if line:\n",
        "                # eliminar puntuación\n",
        "                line = line.translate(str.maketrans('', '', string.punctuation))\n",
        "                textos.append(line)\n",
        "                etiquetas.append(etiqueta)\n",
        "            print(line)\n"
      ],
      "metadata": {
        "id": "AI8b8TOUnF_W"
      },
      "execution_count": null,
      "outputs": []
    },
    {
      "cell_type": "code",
      "source": [
        "textos"
      ],
      "metadata": {
        "id": "gQCcrrdgnlhd"
      },
      "execution_count": null,
      "outputs": []
    },
    {
      "cell_type": "code",
      "source": [
        "etiquetas"
      ],
      "metadata": {
        "id": "BvL6LDeapPpH"
      },
      "execution_count": null,
      "outputs": []
    },
    {
      "cell_type": "code",
      "source": [
        "plt.hist(etiquetas)"
      ],
      "metadata": {
        "id": "_-gdsRKaqRNe"
      },
      "execution_count": null,
      "outputs": []
    },
    {
      "cell_type": "code",
      "source": [
        "print(len(textos))\n",
        "print(len(etiquetas))"
      ],
      "metadata": {
        "id": "AlA_YDXkrJvP"
      },
      "execution_count": null,
      "outputs": []
    },
    {
      "cell_type": "code",
      "source": [
        "etiquetas = np.array(etiquetas)\n",
        "etiquetas"
      ],
      "metadata": {
        "id": "5QUZ03RzseSg"
      },
      "execution_count": null,
      "outputs": []
    },
    {
      "cell_type": "code",
      "source": [
        "train_text, test_text, Ytrain, Ytest = train_test_split(textos, etiquetas, test_size = 0.1, random_state = 42)"
      ],
      "metadata": {
        "id": "05F9GhXNqg4D"
      },
      "execution_count": null,
      "outputs": []
    },
    {
      "cell_type": "code",
      "source": [
        "print(f'El modelo sera entrenado con {len(Ytrain)} y  probado con {len(Ytest)}')"
      ],
      "metadata": {
        "id": "S3XYtG8dsntH"
      },
      "execution_count": null,
      "outputs": []
    },
    {
      "cell_type": "code",
      "source": [
        "'''\n",
        "unk es una conversion que se utiliza a menudo en PLN para representar palabras\n",
        "desconocidas o fuera del vocabulario. En este caso, se esta asignando el indice\n",
        "0 a la palabra especial.\n",
        "'''\n",
        "indice = 1\n",
        "indice_palabras = {'unk': 0}"
      ],
      "metadata": {
        "id": "oSaYY9r3snqh"
      },
      "execution_count": null,
      "outputs": []
    },
    {
      "cell_type": "code",
      "source": [
        "# creamos diccionario de codificacion de palabras a indices\n",
        "for texto in train_text:\n",
        "    tokens = texto.split()\n",
        "    for token in tokens:\n",
        "        if token not in indice_palabras:\n",
        "            indice_palabras[token] = indice\n",
        "            indice += 1"
      ],
      "metadata": {
        "id": "wC5-YX7NsnoB"
      },
      "execution_count": null,
      "outputs": []
    },
    {
      "cell_type": "code",
      "source": [
        "indice_palabras"
      ],
      "metadata": {
        "id": "ymOMvCwbsnk4"
      },
      "execution_count": null,
      "outputs": []
    },
    {
      "cell_type": "code",
      "source": [
        "len(indice_palabras)"
      ],
      "metadata": {
        "id": "6Uo229GUsng_"
      },
      "execution_count": null,
      "outputs": []
    },
    {
      "cell_type": "code",
      "source": [
        "train_text_int = []\n",
        "test_text_int = []\n",
        "\n",
        "for texto in train_text:\n",
        "    tokens = texto.split()\n",
        "    linea_entero = [indice_palabras[token] for token in tokens]\n",
        "    train_text_int.append(linea_entero)"
      ],
      "metadata": {
        "id": "zzM2YwNEsne2"
      },
      "execution_count": null,
      "outputs": []
    },
    {
      "cell_type": "code",
      "source": [
        "train_text_int"
      ],
      "metadata": {
        "id": "-tYiGyElvra1"
      },
      "execution_count": null,
      "outputs": []
    },
    {
      "cell_type": "code",
      "source": [
        "for texto in train_text:\n",
        "  tokens = texto.split()\n",
        "  line_as_int = [indice_palabras.get(token,0) for token in tokens]\n",
        "  test_text_int.append(line_as_int)"
      ],
      "metadata": {
        "id": "Oraxi7odvyO6"
      },
      "execution_count": null,
      "outputs": []
    },
    {
      "cell_type": "code",
      "source": [
        "test_text_int"
      ],
      "metadata": {
        "id": "wafSQt7nvyNP"
      },
      "execution_count": null,
      "outputs": []
    },
    {
      "cell_type": "code",
      "source": [
        "test_text_int"
      ],
      "metadata": {
        "id": "5nABWiipx39P"
      },
      "execution_count": null,
      "outputs": []
    },
    {
      "cell_type": "code",
      "source": [
        "V = len(indice_palabras)\n",
        "V"
      ],
      "metadata": {
        "id": "aUgxmWCNvyKh"
      },
      "execution_count": null,
      "outputs": []
    },
    {
      "cell_type": "code",
      "source": [
        "A0 = np.ones((V,V))\n",
        "pi0 = np.ones(V)\n",
        "\n",
        "\n",
        "A1 = np.ones((V,V))\n",
        "pi1 = np.ones(V)"
      ],
      "metadata": {
        "id": "vppFNs5mvyIH"
      },
      "execution_count": null,
      "outputs": []
    },
    {
      "cell_type": "code",
      "source": [
        "def compute_counts(text_as_int, A, pi):\n",
        "    for tokens in text_as_int:\n",
        "        last_idx = None\n",
        "        for idx in tokens:\n",
        "            # estamos en la primera palabra de la secuencia\n",
        "            if last_idx is None:\n",
        "                pi[idx] += 1\n",
        "            else:\n",
        "                A[last_idx, idx] += 1\n",
        "            last_idx = idx\n",
        "\n",
        "compute_counts([t for t, y in zip(train_text_int, Ytrain) if y == 0], A0, pi0)\n",
        "compute_counts([t for t, y in zip(train_text_int, Ytrain) if y == 1], A1, pi1)"
      ],
      "metadata": {
        "id": "tT_HlMWEvx5c"
      },
      "execution_count": null,
      "outputs": []
    },
    {
      "cell_type": "code",
      "source": [
        "pi0"
      ],
      "metadata": {
        "id": "w9Zh8HcKyy7C"
      },
      "execution_count": null,
      "outputs": []
    },
    {
      "cell_type": "code",
      "source": [
        "pi1"
      ],
      "metadata": {
        "id": "2nEy5uK5zD5-"
      },
      "execution_count": null,
      "outputs": []
    },
    {
      "cell_type": "code",
      "source": [
        "A0"
      ],
      "metadata": {
        "id": "QFXRakt_zEyO"
      },
      "execution_count": null,
      "outputs": []
    },
    {
      "cell_type": "code",
      "source": [
        "A1"
      ],
      "metadata": {
        "id": "40G-qwcczIdm"
      },
      "execution_count": null,
      "outputs": []
    },
    {
      "cell_type": "markdown",
      "source": [
        "Normalizar A y pi para que sean matrices de probabilidad validas"
      ],
      "metadata": {
        "id": "MfxYHAREzSpv"
      }
    },
    {
      "cell_type": "code",
      "source": [
        "A0 /= A0.sum(axis=1, keepdims=True)\n",
        "pi0 /= pi0.sum()\n",
        "\n",
        "A1 /= A1.sum(axis=1, keepdims=True)\n",
        "pi1 /= pi1.sum()"
      ],
      "metadata": {
        "id": "_XxVvkKYzRgU"
      },
      "execution_count": null,
      "outputs": []
    },
    {
      "cell_type": "code",
      "source": [
        "pi0"
      ],
      "metadata": {
        "id": "dQLn2aWozzUB"
      },
      "execution_count": null,
      "outputs": []
    },
    {
      "cell_type": "code",
      "source": [
        "A0"
      ],
      "metadata": {
        "id": "elTm82qGz3eD"
      },
      "execution_count": null,
      "outputs": []
    },
    {
      "cell_type": "code",
      "source": [
        "# Espacio logarítmico, se usa ya que las probabilidades son muy pequeñas y el sistema trunque las probabilidades como 0 (no probable)\n",
        "# Entonces, se usa para evitar que el modelo se muera computacionalmente\n",
        "logA0 = np.log(A0)\n",
        "logpi0 = np.log(pi0)\n",
        "\n",
        "\n",
        "logA1 = np.log(A1)\n",
        "logpi1 = np.log(pi1)"
      ],
      "metadata": {
        "id": "rlKFfJ8qz5Vu"
      },
      "execution_count": null,
      "outputs": []
    },
    {
      "cell_type": "code",
      "source": [
        "logpi0"
      ],
      "metadata": {
        "id": "h1bm9zjY0mSm"
      },
      "execution_count": null,
      "outputs": []
    },
    {
      "cell_type": "code",
      "source": [
        "logA0"
      ],
      "metadata": {
        "id": "1pNhMkT_0o1-"
      },
      "execution_count": null,
      "outputs": []
    },
    {
      "cell_type": "code",
      "source": [
        "count0 = sum(y==0 for y in Ytrain) # Cuenta de etiquetas de clase 0 en Ytrain\n",
        "count1 = sum(y==1 for y in Ytrain) # Cuenta de etiquetas de clase 1 en Ytrain\n",
        "\n",
        "total = len(Ytrain) # cantidad total de ejemplos de entrenamiento\n",
        "\n",
        "p0 = count0 / total # probabilidad a priori de clase 0\n",
        "p1 = count1 / total # probabilidad a priori de clase 1\n",
        "\n",
        "logp0 = np.log(p0)  # Logaritmo de la probabilidad a priori de clase 0\n",
        "logp1 = np.log(p1)  # Logaritmo de la probabilidad a priori de clase 1\n",
        "\n",
        "print(f'Las probabilidades a priori de la clase 0 y 1 son respectivamente {p0, p1}')"
      ],
      "metadata": {
        "id": "GroKjP450rSq"
      },
      "execution_count": null,
      "outputs": []
    },
    {
      "cell_type": "markdown",
      "source": [
        "# Construcción de un clasificador"
      ],
      "metadata": {
        "id": "1nI4hU8-3EYM"
      }
    },
    {
      "cell_type": "code",
      "source": [
        "# contrucción de un clasificador\n",
        "class Classifier:\n",
        "    def __init__(self, logAs, logpis, logpriors):\n",
        "        self.logAs = logAs\n",
        "        self.logpis = logpis\n",
        "        self.logpriors = logpriors\n",
        "        self.K = len(logpriors) # número de clases\n",
        "\n",
        "    def _compute_log_likelihood(self, input_, class_):\n",
        "        logA = self.logAs[class_]\n",
        "        logpi = self.logpis[class_]\n",
        "\n",
        "        last_idx = None\n",
        "        logprob = 0\n",
        "        for idx in input_:\n",
        "            if last_idx is None:\n",
        "                # Es el primer token en la secuencia\n",
        "                logprob += logpi[idx]\n",
        "            else:\n",
        "                # Calcula la probabilidad de transición de la palabra anterior a la actual\n",
        "                logprob += logA[last_idx, idx]\n",
        "\n",
        "            # Actualiza last_idx para la próxima iteración\n",
        "            last_idx = idx\n",
        "\n",
        "        return logprob\n",
        "\n",
        "    def predict(self, inputs):\n",
        "        predictions = np.zeros(len(inputs))\n",
        "        for i, input_ in enumerate(inputs):\n",
        "            # Calcula los logaritmos de las probabilidades posteriores para cada clase\n",
        "            posteriors = [self._compute_log_likelihood(input_, c) + self.logpriors[c] \\\n",
        "                          for c in range(self.K)]\n",
        "            # Elige la clase con la mayor probabilidad posterior como la predicción\n",
        "            pred = np.argmax(posteriors)\n",
        "            predictions[i] = pred\n",
        "        return predictions"
      ],
      "metadata": {
        "id": "zZcXiLDm2-q2"
      },
      "execution_count": null,
      "outputs": []
    },
    {
      "cell_type": "code",
      "source": [
        "# Cada arreglo debe estar en orden ya que se asuma que las clases indexan estas listas\n",
        "clf = Classifier([logA0, logA1], [logpi0, logpi1], [logp0, logp1])"
      ],
      "metadata": {
        "id": "pcqUW0l96wy-"
      },
      "execution_count": null,
      "outputs": []
    },
    {
      "cell_type": "code",
      "source": [
        "Ptrain = clf.predict(train_text_int)"
      ],
      "metadata": {
        "id": "fDoh8w-47TQ9"
      },
      "execution_count": null,
      "outputs": []
    },
    {
      "cell_type": "code",
      "source": [
        "print(f'Train acc: {np.mean(Ptrain==Ytrain)}')"
      ],
      "metadata": {
        "id": "QPrPQHsV78f9"
      },
      "execution_count": null,
      "outputs": []
    },
    {
      "cell_type": "code",
      "source": [
        "Ptest = clf.predict(test_text_int)\n",
        "print(f\"Test acc: {np.mean(Ptest == Ytest)}\")"
      ],
      "metadata": {
        "id": "Cfxr4W3d8KmO"
      },
      "execution_count": null,
      "outputs": []
    }
  ]
}