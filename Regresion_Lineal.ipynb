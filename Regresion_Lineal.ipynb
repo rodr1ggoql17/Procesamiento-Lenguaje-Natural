{
  "nbformat": 4,
  "nbformat_minor": 0,
  "metadata": {
    "colab": {
      "private_outputs": true,
      "provenance": [],
      "cell_execution_strategy": "setup",
      "authorship_tag": "ABX9TyNiLhiMo+dcoGzt28dnx6G9",
      "include_colab_link": true
    },
    "kernelspec": {
      "name": "python3",
      "display_name": "Python 3"
    },
    "language_info": {
      "name": "python"
    }
  },
  "cells": [
    {
      "cell_type": "markdown",
      "metadata": {
        "id": "view-in-github",
        "colab_type": "text"
      },
      "source": [
        "<a href=\"https://colab.research.google.com/github/rodr1ggoql17/Procesamiento-Lenguaje-Natural/blob/main/Regresion_Lineal.ipynb\" target=\"_parent\"><img src=\"https://colab.research.google.com/assets/colab-badge.svg\" alt=\"Open In Colab\"/></a>"
      ]
    },
    {
      "cell_type": "markdown",
      "source": [
        "#Ejemplo regresión lineal"
      ],
      "metadata": {
        "id": "f6OtUNwDymJJ"
      }
    },
    {
      "cell_type": "markdown",
      "source": [
        "#Librerías necesarias"
      ],
      "metadata": {
        "id": "uZErDStcyr4n"
      }
    },
    {
      "cell_type": "code",
      "execution_count": null,
      "metadata": {
        "id": "AF82Uubrxw63"
      },
      "outputs": [],
      "source": [
        "import numpy as np\n",
        "import tensorflow as tf\n",
        "import matplotlib.pyplot as plt\n",
        "\n",
        "from tensorflow.keras.layers import Dense, Input\n",
        "from tensorflow.keras.models import Model\n",
        "from tensorflow.keras.optimizers import Adam"
      ]
    },
    {
      "cell_type": "markdown",
      "source": [
        "# Datos aleatorios"
      ],
      "metadata": {
        "id": "EIJSkQmlyxMt"
      }
    },
    {
      "cell_type": "code",
      "source": [
        "N = 200\n",
        "X = np.random.random(N) * 9 - 5\n",
        "y = 0.5 * X-1 + np.random.randn(N) *0.5"
      ],
      "metadata": {
        "id": "_ldiFH3KyQNU"
      },
      "execution_count": null,
      "outputs": []
    },
    {
      "cell_type": "markdown",
      "source": [
        "#Graficos de datos random"
      ],
      "metadata": {
        "id": "m5ow6KYcy1wc"
      }
    },
    {
      "cell_type": "code",
      "source": [
        "plt.scatter(X,y)"
      ],
      "metadata": {
        "id": "EsGwv91OyclG"
      },
      "execution_count": null,
      "outputs": []
    },
    {
      "cell_type": "markdown",
      "source": [
        "# Modelo"
      ],
      "metadata": {
        "id": "3dtTkM9oy5Lw"
      }
    },
    {
      "cell_type": "code",
      "source": [
        "i = Input(shape=(1,)) # tensor de una dimensión\n",
        "x = Dense(1)(i) # Una neurona\n",
        "\n",
        "modelo = Model(i,x)"
      ],
      "metadata": {
        "id": "KFuhLmQCyf0B"
      },
      "execution_count": null,
      "outputs": []
    },
    {
      "cell_type": "code",
      "source": [
        "modelo.summary()"
      ],
      "metadata": {
        "id": "Lf5kRjCSzmDm"
      },
      "execution_count": null,
      "outputs": []
    },
    {
      "cell_type": "code",
      "source": [
        "modelo.compile(\n",
        "    loss='mse', #Establece función de pérdida error cuadrático medio (MSE)\n",
        "    optimizer=Adam(learning_rate=0.1), # Optimizador Adam con una tasa de aprendizaje del 0.1\n",
        "    metrics=['mae'] # Monitoreo de métrica de error absoluto medio (MAE)\n",
        ")"
      ],
      "metadata": {
        "id": "Foydj6VBzqNW"
      },
      "execution_count": null,
      "outputs": []
    },
    {
      "cell_type": "code",
      "source": [
        "r = modelo.fit(\n",
        "    X.reshape(-1,1),\n",
        "    y,\n",
        "    epochs=800,\n",
        "    batch_size=32,\n",
        ")"
      ],
      "metadata": {
        "id": "8JJiIXPp0hpA"
      },
      "execution_count": null,
      "outputs": []
    },
    {
      "cell_type": "markdown",
      "source": [
        "# Predicción"
      ],
      "metadata": {
        "id": "qs1RG80r1ukI"
      }
    },
    {
      "cell_type": "code",
      "source": [
        "Xtest = np.linspace(-5,4,20).reshape(-1,1)\n",
        "ptest = modelo.predict(Xtest)"
      ],
      "metadata": {
        "id": "s5jYqBzb1nqZ"
      },
      "execution_count": null,
      "outputs": []
    },
    {
      "cell_type": "code",
      "source": [
        "plt.scatter(X,y)\n",
        "plt.plot(Xtest, ptest);"
      ],
      "metadata": {
        "id": "eeq-YpwB1noq"
      },
      "execution_count": null,
      "outputs": []
    },
    {
      "cell_type": "code",
      "source": [
        "modelo.layers[1].get_weights()"
      ],
      "metadata": {
        "id": "Akt90DiC2LLg"
      },
      "execution_count": null,
      "outputs": []
    },
    {
      "cell_type": "code",
      "source": [],
      "metadata": {
        "id": "8sdZr3Ys1nmU"
      },
      "execution_count": null,
      "outputs": []
    },
    {
      "cell_type": "code",
      "source": [],
      "metadata": {
        "id": "egIgzQ8u1njy"
      },
      "execution_count": null,
      "outputs": []
    }
  ]
}