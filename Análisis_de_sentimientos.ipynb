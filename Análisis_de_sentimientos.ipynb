{
  "nbformat": 4,
  "nbformat_minor": 0,
  "metadata": {
    "colab": {
      "private_outputs": true,
      "provenance": [],
      "authorship_tag": "ABX9TyMDJKziM21hZvGoCdI7H4NB",
      "include_colab_link": true
    },
    "kernelspec": {
      "name": "python3",
      "display_name": "Python 3"
    },
    "language_info": {
      "name": "python"
    }
  },
  "cells": [
    {
      "cell_type": "markdown",
      "metadata": {
        "id": "view-in-github",
        "colab_type": "text"
      },
      "source": [
        "<a href=\"https://colab.research.google.com/github/rodr1ggoql17/Procesamiento-Lenguaje-Natural/blob/main/An%C3%A1lisis_de_sentimientos.ipynb\" target=\"_parent\"><img src=\"https://colab.research.google.com/assets/colab-badge.svg\" alt=\"Open In Colab\"/></a>"
      ]
    },
    {
      "cell_type": "markdown",
      "source": [
        "#Regresión Logistica, es un modelo lineal\n",
        "\n",
        " x1 = mx2  + i\n",
        " w1x1 + w2x2 + b = 0, donde w es el peso y b el sesgo\n",
        "\n",
        "\n",
        "# Función de activación\n",
        "función limitadora o umbral que modifica el valor de resultado o impone un límite que se debe sobrepasar para poder decidir si pertenece a una clase u otra.\n",
        "\n",
        "#Multiclase\n"
      ],
      "metadata": {
        "id": "qN6X13FghL3h"
      }
    },
    {
      "cell_type": "code",
      "execution_count": null,
      "metadata": {
        "id": "09VlA5yie64d"
      },
      "outputs": [],
      "source": [
        "from google.colab import drive\n",
        "drive.mount('/content/drive/')"
      ]
    },
    {
      "cell_type": "markdown",
      "source": [
        "Librerias necesarias"
      ],
      "metadata": {
        "id": "Z1U8iqfnnKPP"
      }
    },
    {
      "cell_type": "code",
      "source": [
        "import pandas as pd\n",
        "import numpy as np\n",
        "import seaborn as sns\n",
        "import matplotlib.pyplot as plt\n",
        "from sklearn.feature_extraction.text import CountVectorizer, TfidfVectorizer\n",
        "from sklearn.linear_model import LogisticRegression\n",
        "from sklearn.metrics import roc_auc_score, f1_score, confusion_matrix\n",
        "from sklearn.model_selection import train_test_split"
      ],
      "metadata": {
        "id": "5n-IMSMKmePM"
      },
      "execution_count": null,
      "outputs": []
    },
    {
      "cell_type": "code",
      "source": [
        "df = pd.read_excel('/content/drive/MyDrive/CURSO NLP/data/BBDD.xlsx')"
      ],
      "metadata": {
        "id": "H9kdZPrRnJ0Q"
      },
      "execution_count": null,
      "outputs": []
    },
    {
      "cell_type": "code",
      "source": [
        "df"
      ],
      "metadata": {
        "id": "PZoYkSeAn81v"
      },
      "execution_count": null,
      "outputs": []
    },
    {
      "cell_type": "code",
      "source": [
        "df = df[['sentimiento', 'review_es']]"
      ],
      "metadata": {
        "id": "DnLRD3aEoQrX"
      },
      "execution_count": null,
      "outputs": []
    },
    {
      "cell_type": "code",
      "source": [
        "df"
      ],
      "metadata": {
        "id": "lqrmbBoPocma"
      },
      "execution_count": null,
      "outputs": []
    },
    {
      "cell_type": "code",
      "source": [
        "df['sentimiento'].hist()"
      ],
      "metadata": {
        "id": "U2U_34QVohgv"
      },
      "execution_count": null,
      "outputs": []
    },
    {
      "cell_type": "code",
      "source": [
        "map = {'positivo': 1, 'negativo': 0}\n",
        "df['label'] = df['sentimiento'].map(map)\n",
        "df"
      ],
      "metadata": {
        "id": "QFiSBxi_qMyA"
      },
      "execution_count": null,
      "outputs": []
    },
    {
      "cell_type": "code",
      "source": [
        "df_train , df_test = train_test_split(df)"
      ],
      "metadata": {
        "id": "ljkdJuZyrLK3"
      },
      "execution_count": null,
      "outputs": []
    },
    {
      "cell_type": "code",
      "source": [
        "df_train"
      ],
      "metadata": {
        "id": "JA7jxQ-YrUQw"
      },
      "execution_count": null,
      "outputs": []
    },
    {
      "cell_type": "code",
      "source": [
        "df_test"
      ],
      "metadata": {
        "id": "0FTkgBCGrXif"
      },
      "execution_count": null,
      "outputs": []
    },
    {
      "cell_type": "code",
      "source": [
        "vectorizer = TfidfVectorizer(max_features = 2000)\n",
        "X_train = vectorizer.fit_transform(df_train['review_es'])"
      ],
      "metadata": {
        "id": "yQCbmJx-rZX4"
      },
      "execution_count": null,
      "outputs": []
    },
    {
      "cell_type": "code",
      "source": [
        "X_train"
      ],
      "metadata": {
        "id": "FhzHrz_7sUTt"
      },
      "execution_count": null,
      "outputs": []
    },
    {
      "cell_type": "code",
      "source": [
        "X_test = vectorizer.transform(df_test['review_es'])"
      ],
      "metadata": {
        "id": "lRm2PoZAsXHg"
      },
      "execution_count": null,
      "outputs": []
    },
    {
      "cell_type": "code",
      "source": [
        "X_test"
      ],
      "metadata": {
        "id": "oxfX_4LVsiwY"
      },
      "execution_count": null,
      "outputs": []
    },
    {
      "cell_type": "code",
      "source": [
        "y_train = df_train['label']\n",
        "y_test = df_test['label']"
      ],
      "metadata": {
        "id": "91KGWzneskgf"
      },
      "execution_count": null,
      "outputs": []
    },
    {
      "cell_type": "code",
      "source": [
        "model = LogisticRegression(max_iter=1000)\n",
        "model.fit(X_train, y_train)\n",
        "\n",
        "\n",
        "# presición del modelo\n",
        "print('Train acc: ', model.score(X_train, y_train))\n",
        "print('Test acc: ', model.score(X_test, y_test))"
      ],
      "metadata": {
        "id": "ZfYaKyyVs00Q"
      },
      "execution_count": null,
      "outputs": []
    },
    {
      "cell_type": "code",
      "source": [
        "P_train = model.predict (X_train)\n",
        "P_test = model.predict(X_test)\n",
        "\n",
        "\n",
        "matrix = confusion_matrix(y_train, P_train, normalize = 'true')\n",
        "matrix"
      ],
      "metadata": {
        "id": "bT2e-kJFtRCH"
      },
      "execution_count": null,
      "outputs": []
    },
    {
      "cell_type": "code",
      "source": [
        "def plot_matrix(matrix):\n",
        "  classes = ['Negativo', 'Positivo']\n",
        "  df_matrix = pd.DataFrame(matrix, index=classes , columns = classes)\n",
        "  ax = sns.heatmap(df_matrix, annot=True, fmt='g')\n",
        "  ax.set_xlabel('Predicción')\n",
        "  ax.set_ylabel('Objetivo')\n",
        "  ax.set_title('Matriz de confusión')\n",
        "plot_matrix(matrix)"
      ],
      "metadata": {
        "id": "xAkZuaO6tQ8H"
      },
      "execution_count": null,
      "outputs": []
    },
    {
      "cell_type": "code",
      "source": [
        "matrix = confusion_matrix(y_test, P_test, normalize = 'true')\n",
        "plot_matrix(matrix)"
      ],
      "metadata": {
        "id": "PjzS95cNvxvo"
      },
      "execution_count": null,
      "outputs": []
    },
    {
      "cell_type": "code",
      "source": [
        "word_index_map = vectorizer.vocabulary_\n",
        "word_index_map"
      ],
      "metadata": {
        "id": "rGcQOSQFwN4X"
      },
      "execution_count": null,
      "outputs": []
    },
    {
      "cell_type": "code",
      "source": [
        "# palabras que más se repiten en positivo\n",
        "aux  =4\n",
        "print('Palabras más positivas')\n",
        "for word, index in word_index_map.items():\n",
        "  weight = model.coef_[0][index]\n",
        "  if weight > aux :\n",
        "    print(word, weight)"
      ],
      "metadata": {
        "id": "mI4ggFC1wakp"
      },
      "execution_count": null,
      "outputs": []
    },
    {
      "cell_type": "code",
      "source": [
        "# palabras que más se repiten en negativo\n",
        "aux = 4\n",
        "print('Palabras más positivas')\n",
        "for word, index in word_index_map.items():\n",
        "  weight = model.coef_[0][index]\n",
        "  if weight < -aux :\n",
        "    print(word, weight)"
      ],
      "metadata": {
        "id": "9HrIBScDw6YP"
      },
      "execution_count": null,
      "outputs": []
    },
    {
      "cell_type": "code",
      "source": [
        "plt.hist(model.coef_[0], bins = 30);"
      ],
      "metadata": {
        "id": "YqNntUj3x8pQ"
      },
      "execution_count": null,
      "outputs": []
    },
    {
      "cell_type": "markdown",
      "source": [
        "Prueba del modelo"
      ],
      "metadata": {
        "id": "hvf9CAh0y20A"
      }
    },
    {
      "cell_type": "code",
      "source": [
        "test = []\n",
        "iter = 0\n",
        "while iter < 3:\n",
        "  valor = input('ingresa una opinion (positiva o negativa): ')\n",
        "  iter+=1\n",
        "  test.append(valor)"
      ],
      "metadata": {
        "id": "dPO3f0mryHto"
      },
      "execution_count": null,
      "outputs": []
    },
    {
      "cell_type": "code",
      "source": [
        "test"
      ],
      "metadata": {
        "id": "EpUEnHvSzhP3"
      },
      "execution_count": null,
      "outputs": []
    },
    {
      "cell_type": "code",
      "source": [
        "# vectorizar las reseñas digitadas por el usuario\n",
        "x = vectorizer.transform(test)\n",
        "P = model.predict(x)\n",
        "\n",
        "# obtener las clases que el modelo predijo\n",
        "classes = model.classes_"
      ],
      "metadata": {
        "id": "IXoWikyCy6RH"
      },
      "execution_count": null,
      "outputs": []
    },
    {
      "cell_type": "code",
      "source": [
        "for i in range(len(test)):\n",
        "  if classes[P[i]]==0:\n",
        "    print('La reseña : ', test[i] , 'es negativo')\n",
        "  else:\n",
        "    print('La reseña : ', test[i] , 'es positivo')"
      ],
      "metadata": {
        "id": "aSOVAKEkzOtQ"
      },
      "execution_count": null,
      "outputs": []
    },
    {
      "cell_type": "markdown",
      "source": [
        "# Multiclases"
      ],
      "metadata": {
        "id": "qE7X3U5Z04mI"
      }
    },
    {
      "cell_type": "code",
      "source": [
        "df = pd.read_csv('/content/drive/MyDrive/CURSO NLP/data/Twitter_Data.csv')"
      ],
      "metadata": {
        "id": "jo6lhAq5057H"
      },
      "execution_count": null,
      "outputs": []
    },
    {
      "cell_type": "code",
      "source": [
        "df"
      ],
      "metadata": {
        "id": "LHi3rvti1D3D"
      },
      "execution_count": null,
      "outputs": []
    },
    {
      "cell_type": "code",
      "source": [
        "df['category'].hist()"
      ],
      "metadata": {
        "id": "dENfaHaC1O1i"
      },
      "execution_count": null,
      "outputs": []
    },
    {
      "cell_type": "code",
      "source": [
        "target_map = {'Positivo': 1, 'Negativo': 0, 'Neutro': 2}\n",
        "df['target'] = df['category'].map(target_map)"
      ],
      "metadata": {
        "id": "qZ3aBiX91Vp_"
      },
      "execution_count": null,
      "outputs": []
    },
    {
      "cell_type": "code",
      "source": [
        "df"
      ],
      "metadata": {
        "id": "TutTsaXx1p7a"
      },
      "execution_count": null,
      "outputs": []
    },
    {
      "cell_type": "code",
      "source": [
        "df_train, df_test = train_test_split(df)"
      ],
      "metadata": {
        "id": "qCCl00kH1wYB"
      },
      "execution_count": null,
      "outputs": []
    },
    {
      "cell_type": "code",
      "source": [
        "df_train.head()"
      ],
      "metadata": {
        "id": "S002mJ6Z16nS"
      },
      "execution_count": null,
      "outputs": []
    },
    {
      "cell_type": "code",
      "source": [
        "df_test"
      ],
      "metadata": {
        "id": "61Ngoarh17zO"
      },
      "execution_count": null,
      "outputs": []
    },
    {
      "cell_type": "code",
      "source": [
        "vectorizer = TfidfVectorizer(max_features=2000)\n",
        "X_train = vectorizer.fit_transform(df_train['clean_text'])\n",
        "X_train"
      ],
      "metadata": {
        "id": "pWZA2EhE194_"
      },
      "execution_count": null,
      "outputs": []
    },
    {
      "cell_type": "code",
      "source": [
        "X_test = vectorizer.transform(df_test['clean_text'])\n",
        "X_test"
      ],
      "metadata": {
        "id": "1TffOOHd2f0j"
      },
      "execution_count": null,
      "outputs": []
    },
    {
      "cell_type": "code",
      "source": [
        "Y_train = df_train['target']\n",
        "Y_test = df_test['target']"
      ],
      "metadata": {
        "id": "6769C6dP3xWB"
      },
      "execution_count": null,
      "outputs": []
    },
    {
      "cell_type": "code",
      "source": [
        "model = LogisticRegression(max_iter=1000)\n",
        "model.fit(X_train, Y_train)\n",
        "print(\"Train acc:\", model.score(X_train, Y_train))\n",
        "print(\"Test acc:\", model.score(X_test, Y_test))"
      ],
      "metadata": {
        "id": "x0xM2a6H2ncw"
      },
      "execution_count": null,
      "outputs": []
    },
    {
      "cell_type": "code",
      "source": [
        "P_train = model.predict(X_train)\n",
        "P_test = model.predict(X_test)"
      ],
      "metadata": {
        "id": "8HiwYjJg7yCq"
      },
      "execution_count": null,
      "outputs": []
    },
    {
      "cell_type": "code",
      "source": [
        "cm = confusion_matrix(Y_train, P_train, normalize='true')\n",
        "cm"
      ],
      "metadata": {
        "id": "SxaGjKSk8BLY"
      },
      "execution_count": null,
      "outputs": []
    },
    {
      "cell_type": "code",
      "source": [
        "def plot_cm(cm):\n",
        "    classes = ['negativo', 'positivo', 'neutro']\n",
        "    df_cm = pd.DataFrame(cm, index=classes, columns=classes)\n",
        "    ax = sns.heatmap(df_cm, annot=True, fmt='g')\n",
        "    ax.set_xlabel(\"Predicted\")\n",
        "    ax.set_ylabel(\"Target\")"
      ],
      "metadata": {
        "id": "NgA8koYv8CgI"
      },
      "execution_count": null,
      "outputs": []
    },
    {
      "cell_type": "code",
      "source": [
        "cm_test = confusion_matrix(Y_test, P_test, normalize='true')\n",
        "plot_cm(cm_test)"
      ],
      "metadata": {
        "id": "hSjLCEFB8D2p"
      },
      "execution_count": null,
      "outputs": []
    }
  ]
}