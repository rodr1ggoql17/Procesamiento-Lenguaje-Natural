{
  "nbformat": 4,
  "nbformat_minor": 0,
  "metadata": {
    "colab": {
      "private_outputs": true,
      "provenance": [],
      "authorship_tag": "ABX9TyMfsklZSvIdlKxwjg7B3dK0",
      "include_colab_link": true
    },
    "kernelspec": {
      "name": "python3",
      "display_name": "Python 3"
    },
    "language_info": {
      "name": "python"
    }
  },
  "cells": [
    {
      "cell_type": "markdown",
      "metadata": {
        "id": "view-in-github",
        "colab_type": "text"
      },
      "source": [
        "<a href=\"https://colab.research.google.com/github/rodr1ggoql17/Procesamiento-Lenguaje-Natural/blob/main/Generador_de_texto.ipynb\" target=\"_parent\"><img src=\"https://colab.research.google.com/assets/colab-badge.svg\" alt=\"Open In Colab\"/></a>"
      ]
    },
    {
      "cell_type": "markdown",
      "source": [
        "# Usar modelos de Markov para generar texto\n",
        "- Corresponde al aprendizaje no supervisado"
      ],
      "metadata": {
        "id": "kqJcOsL8HhHC"
      }
    },
    {
      "cell_type": "code",
      "source": [
        "import pandas as pd\n",
        "from google.colab import drive\n",
        "drive.mount(\"/content/drive/\")"
      ],
      "metadata": {
        "id": "srXoSkTFHrkN"
      },
      "execution_count": null,
      "outputs": []
    },
    {
      "cell_type": "code",
      "source": [
        "import numpy as np\n",
        "import string"
      ],
      "metadata": {
        "id": "Gxa_FDrJKkSM"
      },
      "execution_count": null,
      "outputs": []
    },
    {
      "cell_type": "code",
      "source": [
        "pa_inicial = {}\n",
        "primer_orden = {}\n",
        "segundo_orden = {}"
      ],
      "metadata": {
        "id": "58Pgg7zMKtzh"
      },
      "execution_count": null,
      "outputs": []
    },
    {
      "cell_type": "code",
      "source": [
        "# Eliminar la puntuación de los textos\n",
        "def remove_punctuation(s):\n",
        "    return s.translate(str.maketrans('','',string.punctuation))\n",
        "\n",
        "# añadir un diccionario\n",
        "def add2dict(d,k,v):\n",
        "  if k not in d:\n",
        "    d[k] = []\n",
        "  d[k].append(v)"
      ],
      "metadata": {
        "id": "CCyLa3AXMCvC"
      },
      "execution_count": null,
      "outputs": []
    },
    {
      "cell_type": "code",
      "source": [
        "# leer archivo\n",
        "with open('/content/drive/MyDrive/CURSO NLP/data/NERUDA.txt', 'r', encoding='utf-8') as archivo:\n",
        "    for line in archivo:\n",
        "        print(line)\n",
        "        tokens = remove_punctuation(line.rstrip().lower()).split()\n",
        "        print(tokens)\n",
        "        T = len(tokens)\n",
        "        print(f\"Tamaño de la fila: {T}\")\n",
        "        for i in range(T):\n",
        "            token = tokens[i]\n",
        "            if i == 0:\n",
        "                pa_inicial[token] = pa_inicial.get(token, 0.) + 1\n",
        "                print(f\"Palabra inicial: {token}\")\n",
        "            else:\n",
        "                t_1 = tokens[i-1]\n",
        "                if i == T - 1:\n",
        "                    add2dict(segundo_orden, (t_1, token), 'END')\n",
        "                if i == 1:\n",
        "                    add2dict(primer_orden, t_1, token)\n",
        "                else:\n",
        "                    t_2 = tokens[i-2]\n",
        "                    add2dict(segundo_orden, (t_2, t_1), token)\n"
      ],
      "metadata": {
        "id": "jx3-skcdM5MP"
      },
      "execution_count": null,
      "outputs": []
    },
    {
      "cell_type": "code",
      "source": [
        "print(f\"Palabras iniciales: {pa_inicial}\")"
      ],
      "metadata": {
        "id": "IQqdpK9hNcY_"
      },
      "execution_count": null,
      "outputs": []
    },
    {
      "cell_type": "code",
      "source": [
        "# Normalizar\n",
        "inicial_total = sum(pa_inicial.values())\n",
        "print(inicial_total)\n",
        "for t, c in pa_inicial.items():\n",
        "    pa_inicial[t] = c / inicial_total"
      ],
      "metadata": {
        "id": "b7c19AyqPO1p"
      },
      "execution_count": null,
      "outputs": []
    },
    {
      "cell_type": "code",
      "source": [
        "pa_inicial"
      ],
      "metadata": {
        "id": "7DjmSXg1RTjb"
      },
      "execution_count": null,
      "outputs": []
    },
    {
      "cell_type": "code",
      "source": [
        "def list2pdict(ts):\n",
        "  d = {}\n",
        "  n = len(ts)\n",
        "  # contar la ocurrencia de cada elemento en la lista\n",
        "  for t in ts:\n",
        "    d[t] = d.get(t,0.) + 1\n",
        "  # convertir los conteos en probabilidades relativas\n",
        "  for t, c in d.items():\n",
        "    d[t] = c / n\n",
        "  return d"
      ],
      "metadata": {
        "id": "9mbGeI7IRWzg"
      },
      "execution_count": null,
      "outputs": []
    },
    {
      "cell_type": "code",
      "source": [
        "for t_1, ts in primer_orden.items():\n",
        "    # replace list with dictionary of probabilities\n",
        "    primer_orden[t_1] = list2pdict(ts)"
      ],
      "metadata": {
        "id": "Ll6p3kXxSIva"
      },
      "execution_count": null,
      "outputs": []
    },
    {
      "cell_type": "code",
      "source": [
        "for k, ts in segundo_orden.items():\n",
        "    segundo_orden[k] = list2pdict(ts)"
      ],
      "metadata": {
        "id": "Z9ArQwdGj8JI"
      },
      "execution_count": null,
      "outputs": []
    },
    {
      "cell_type": "code",
      "source": [
        "def palabra_ejemplo(d, imprimir):\n",
        "    # Genera un número aleatorio en el rango (0, 1)\n",
        "    p0 = np.random.random()\n",
        "    if(imprimir == 1):\n",
        "        print(f\"p0: {p0}\")\n",
        "\n",
        "    # Inicializa una variable para realizar la suma acumulativa de probabilidades\n",
        "    cumulative = 0\n",
        "    if(imprimir == 1):\n",
        "        print(f\"prob acumulada: {cumulative}\")\n",
        "\n",
        "    # Ciclo que recorre cada clave (t) y su probabilidad (p) en el diccionario (d)\n",
        "    for t, p in d.items():\n",
        "        # Agrega la probabilidad actual al valor acumulativo\n",
        "        cumulative += p\n",
        "        if(imprimir == 1):\n",
        "            print(f\"item: {t}, Prob; {p}\")\n",
        "            print(f\"prob acumulada: {cumulative}\")\n",
        "\n",
        "        # Comprueba si el número aleatorio es menor que la acumulación de probabilidades\n",
        "        if p0 < cumulative:\n",
        "            # Si se cumple la condición, devuelve la clave (t) seleccionada\n",
        "            return t"
      ],
      "metadata": {
        "id": "gShktr5SSYYZ"
      },
      "execution_count": null,
      "outputs": []
    },
    {
      "cell_type": "code",
      "source": [
        "def generador(tamaño):\n",
        "    for i in range(tamaño):\n",
        "        oracion = []\n",
        "        #Palabra Inicial\n",
        "        pal0 = palabra_ejemplo(pa_inicial, 0)\n",
        "        oracion.append(pal0)\n",
        "        #Segunda Palabra\n",
        "        pal1 = palabra_ejemplo(primer_orden[pal0], 0)\n",
        "        oracion.append(pal1)\n",
        "\n",
        "        # Segundo orden hasta el fin\n",
        "        while True:\n",
        "            pal2 = palabra_ejemplo(segundo_orden[(pal0, pal1)], 0)\n",
        "            if pal2 == 'END':\n",
        "                break\n",
        "            oracion.append(pal2)\n",
        "            pal0 = pal1\n",
        "            pal1 = pal2\n",
        "        print(' '.join(oracion))"
      ],
      "metadata": {
        "id": "pv2Rq7XNTcfH"
      },
      "execution_count": null,
      "outputs": []
    },
    {
      "cell_type": "code",
      "source": [
        "generador(5)"
      ],
      "metadata": {
        "id": "HgDJvKCETYXZ"
      },
      "execution_count": null,
      "outputs": []
    }
  ]
}