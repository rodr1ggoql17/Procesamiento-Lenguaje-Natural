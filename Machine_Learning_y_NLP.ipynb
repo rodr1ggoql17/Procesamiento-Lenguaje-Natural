{
  "nbformat": 4,
  "nbformat_minor": 0,
  "metadata": {
    "colab": {
      "private_outputs": true,
      "provenance": [],
      "authorship_tag": "ABX9TyMdL3k6TtNAHhR9dGK1FFh6",
      "include_colab_link": true
    },
    "kernelspec": {
      "name": "python3",
      "display_name": "Python 3"
    },
    "language_info": {
      "name": "python"
    }
  },
  "cells": [
    {
      "cell_type": "markdown",
      "metadata": {
        "id": "view-in-github",
        "colab_type": "text"
      },
      "source": [
        "<a href=\"https://colab.research.google.com/github/rodr1ggoql17/Procesamiento-Lenguaje-Natural/blob/main/Machine_Learning_y_NLP.ipynb\" target=\"_parent\"><img src=\"https://colab.research.google.com/assets/colab-badge.svg\" alt=\"Open In Colab\"/></a>"
      ]
    },
    {
      "cell_type": "markdown",
      "source": [
        "#Detección de spam\n",
        "Proceso mediante el cual se identifican y se filtran correos no deseados\n",
        "* Importacia:\n",
        "  * Seguridad y eficiecia\n",
        "  * Experiencia de usuario\n",
        "\n",
        "  "
      ],
      "metadata": {
        "id": "lq1bn6COrExF"
      }
    },
    {
      "cell_type": "markdown",
      "source": [
        "#Reglas de Naive Bayes\n",
        "Es una fórmula que describe como actualizar las probabilidades de hipótesis cuando se dispone de nueva evidencia."
      ],
      "metadata": {
        "id": "bjwp9BRvsqHe"
      }
    },
    {
      "cell_type": "markdown",
      "source": [
        "#Librerias"
      ],
      "metadata": {
        "id": "ggahGgHC38K7"
      }
    },
    {
      "cell_type": "code",
      "execution_count": null,
      "metadata": {
        "id": "wgjf2zpbqChj"
      },
      "outputs": [],
      "source": [
        "from google.colab import drive\n",
        "drive.mount('/content/drive/')"
      ]
    },
    {
      "cell_type": "code",
      "source": [
        "!pip install WordCloud"
      ],
      "metadata": {
        "id": "FClK_N6zdXZ_"
      },
      "execution_count": null,
      "outputs": []
    },
    {
      "cell_type": "code",
      "source": [
        "import numpy as np\n",
        "import matplotlib.pyplot as plt\n",
        "import seaborn as sns\n",
        "import pandas as pd\n",
        "from sklearn.feature_extraction.text import TfidfVectorizer, CountVectorizer\n",
        "from sklearn.model_selection import train_test_split\n",
        "from sklearn.metrics import roc_auc_score, f1_score, confusion_matrix\n",
        "from sklearn.naive_bayes import MultinomialNB\n",
        "from wordcloud import WordCloud"
      ],
      "metadata": {
        "id": "SRQRQeXg37gq"
      },
      "execution_count": null,
      "outputs": []
    },
    {
      "cell_type": "code",
      "source": [
        "df = pd.read_csv('/content/drive/MyDrive/CURSO NLP/data/spam.csv', encoding='ISO-8859-1')"
      ],
      "metadata": {
        "id": "zybG4a346Irr"
      },
      "execution_count": null,
      "outputs": []
    },
    {
      "cell_type": "code",
      "source": [
        "df"
      ],
      "metadata": {
        "id": "gzZeM_2c6q_X"
      },
      "execution_count": null,
      "outputs": []
    },
    {
      "cell_type": "code",
      "source": [
        "count_label = df.groupby(\"label\").count()\n",
        "count_label"
      ],
      "metadata": {
        "id": "2eSynhje646O"
      },
      "execution_count": null,
      "outputs": []
    },
    {
      "cell_type": "code",
      "source": [
        "df['label'].hist()"
      ],
      "metadata": {
        "id": "lFGhrr4S7EZB"
      },
      "execution_count": null,
      "outputs": []
    },
    {
      "cell_type": "code",
      "source": [
        "#binarizamos las etiquetas del conjunto de datos\n",
        "df['binary_label'] = df['label'].map({'ham': 0, 'spam':1})\n",
        "Y = df['binary_label'].to_numpy()"
      ],
      "metadata": {
        "id": "0ZiATI1S7X4O"
      },
      "execution_count": null,
      "outputs": []
    },
    {
      "cell_type": "code",
      "source": [
        "df"
      ],
      "metadata": {
        "id": "0X-8_CHy7zuz"
      },
      "execution_count": null,
      "outputs": []
    },
    {
      "cell_type": "code",
      "source": [
        "Y"
      ],
      "metadata": {
        "id": "JKQ2uBCX75Oc"
      },
      "execution_count": null,
      "outputs": []
    },
    {
      "cell_type": "code",
      "source": [
        "x_train, x_test, y_train, y_test = train_test_split(df['email'], Y, test_size=0.33)"
      ],
      "metadata": {
        "id": "qi2_jTka79ZN"
      },
      "execution_count": null,
      "outputs": []
    },
    {
      "cell_type": "code",
      "source": [
        "x_train"
      ],
      "metadata": {
        "id": "8-RZNCvV8ips"
      },
      "execution_count": null,
      "outputs": []
    },
    {
      "cell_type": "code",
      "source": [
        "x_test"
      ],
      "metadata": {
        "id": "Fe4LMuVX8p36"
      },
      "execution_count": null,
      "outputs": []
    },
    {
      "cell_type": "code",
      "source": [
        "vectores = CountVectorizer(decode_error='ignore')\n",
        "Xtrain = vectores.fit_transform(x_train)\n",
        "Xtest = vectores.transform(x_test)"
      ],
      "metadata": {
        "id": "b8RdaDX68rr_"
      },
      "execution_count": null,
      "outputs": []
    },
    {
      "cell_type": "code",
      "source": [
        "Xtrain"
      ],
      "metadata": {
        "id": "s1JmVkSD9BX6"
      },
      "execution_count": null,
      "outputs": []
    },
    {
      "cell_type": "code",
      "source": [
        "Xtest"
      ],
      "metadata": {
        "id": "JmDqv01r9INY"
      },
      "execution_count": null,
      "outputs": []
    },
    {
      "cell_type": "markdown",
      "source": [
        "Entrenamiento y rendimiento del modelo"
      ],
      "metadata": {
        "id": "KlefiZdw-6t_"
      }
    },
    {
      "cell_type": "code",
      "source": [
        "model = MultinomialNB()\n",
        "model.fit(Xtrain, y_train)\n",
        "print('train acc: ', model.score(Xtrain, y_train))\n",
        "print('test acc: ', model.score(Xtest, y_test))"
      ],
      "metadata": {
        "id": "JbaFw9EI9MfL"
      },
      "execution_count": null,
      "outputs": []
    },
    {
      "cell_type": "code",
      "source": [
        "p_train = model.predict(Xtrain)\n",
        "p_test = model.predict(Xtest)\n",
        "\n",
        "print('train F1', f1_score(y_train, p_train))\n",
        "print('test F1', f1_score(y_test, p_test))"
      ],
      "metadata": {
        "id": "hFBrFbnP-SZZ"
      },
      "execution_count": null,
      "outputs": []
    },
    {
      "cell_type": "markdown",
      "source": [
        "obs: Si f1 train < f1 test, existe overfitting (sobreajuste)"
      ],
      "metadata": {
        "id": "dCPnJcHp-_Fm"
      }
    },
    {
      "cell_type": "code",
      "source": [
        "matrix_conf = confusion_matrix(y_train, p_train)\n",
        "matrix_conf"
      ],
      "metadata": {
        "id": "D2XT63o1_OJJ"
      },
      "execution_count": null,
      "outputs": []
    },
    {
      "cell_type": "code",
      "source": [
        "matrix_conf = confusion_matrix(y_test, p_test)\n",
        "matrix_conf"
      ],
      "metadata": {
        "id": "-dfGjN5F_tCf"
      },
      "execution_count": null,
      "outputs": []
    },
    {
      "cell_type": "code",
      "source": [
        "def plot_matrix(matrix):\n",
        "  classes = ['ham', 'spam']\n",
        "  df_cm = pd.DataFrame(matrix, index=classes, columns = classes)\n",
        "  ax = sns.heatmap(df_cm, annot=True, fmt='g')\n",
        "  ax.set_xlabel('predicted')\n",
        "  ax.set_ylabel('target')\n",
        "plot_matrix(matrix_conf)"
      ],
      "metadata": {
        "id": "qe98vurP_xc_"
      },
      "execution_count": null,
      "outputs": []
    },
    {
      "cell_type": "code",
      "source": [
        "def visualizar(label):\n",
        "  words = ''\n",
        "  for msg in df[df['label']==label]['email']:\n",
        "    msg = msg.lower()\n",
        "    words += msg + ' '\n",
        "  wordcloud = WordCloud(width=600, height = 400).generate(words)\n",
        "  plt.imshow(wordcloud)\n",
        "  plt.axis('off')\n",
        "  plt.show()\n"
      ],
      "metadata": {
        "id": "zvVBt1OAA8aE"
      },
      "execution_count": null,
      "outputs": []
    },
    {
      "cell_type": "code",
      "source": [
        "visualizar('spam')"
      ],
      "metadata": {
        "id": "NiVQmUGsdAuW"
      },
      "execution_count": null,
      "outputs": []
    },
    {
      "cell_type": "code",
      "source": [
        "X = vectores.transform(df['email'])\n",
        "df['predictions'] = model.predict(X)\n",
        "df"
      ],
      "metadata": {
        "id": "3N5GeI8FeYq5"
      },
      "execution_count": null,
      "outputs": []
    },
    {
      "cell_type": "code",
      "source": [
        "falso_spam = df[(df['predictions'] == 1) & (df['binary_label'] == 0)]['email']\n",
        "for msg in falso_spam:\n",
        "    print(msg)"
      ],
      "metadata": {
        "id": "MEzaN6Fpebjn"
      },
      "execution_count": null,
      "outputs": []
    },
    {
      "cell_type": "code",
      "source": [
        "falso_real = df[(df['predictions'] == 0) & (df['binary_label'] == 1)]['email']\n",
        "for msg in falso_real:\n",
        "    print(msg)"
      ],
      "metadata": {
        "id": "haknK0Nzedhf"
      },
      "execution_count": null,
      "outputs": []
    }
  ]
}