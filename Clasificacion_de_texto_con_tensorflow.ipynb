{
  "nbformat": 4,
  "nbformat_minor": 0,
  "metadata": {
    "colab": {
      "private_outputs": true,
      "provenance": [],
      "gpuType": "T4",
      "authorship_tag": "ABX9TyPZvOKWd+GsE87+/8iRv80c",
      "include_colab_link": true
    },
    "kernelspec": {
      "name": "python3",
      "display_name": "Python 3"
    },
    "language_info": {
      "name": "python"
    },
    "accelerator": "GPU"
  },
  "cells": [
    {
      "cell_type": "markdown",
      "metadata": {
        "id": "view-in-github",
        "colab_type": "text"
      },
      "source": [
        "<a href=\"https://colab.research.google.com/github/rodr1ggoql17/Procesamiento-Lenguaje-Natural/blob/main/Clasificacion_de_texto_con_tensorflow.ipynb\" target=\"_parent\"><img src=\"https://colab.research.google.com/assets/colab-badge.svg\" alt=\"Open In Colab\"/></a>"
      ]
    },
    {
      "cell_type": "markdown",
      "source": [
        "# Clasificación Binaria\n",
        "Es un tipo de problema de aprendizaje supervisado el cual su objetivo es predecir entre dos clases posibles en cada instancia."
      ],
      "metadata": {
        "id": "ycys9qza3Any"
      }
    },
    {
      "cell_type": "code",
      "execution_count": null,
      "metadata": {
        "id": "PE1YAWl_25_L"
      },
      "outputs": [],
      "source": [
        "from google.colab import drive\n",
        "drive.mount(\"/content/drive/\")"
      ]
    },
    {
      "cell_type": "code",
      "source": [
        "import pandas as pd\n",
        "import seaborn as sns\n",
        "import numpy as np\n",
        "import matplotlib.pyplot as plt\n",
        "import tensorflow as tf\n",
        "import nltk\n",
        "from sklearn.model_selection import train_test_split\n",
        "from sklearn.feature_extraction.text import TfidfVectorizer\n",
        "from sklearn.metrics import roc_auc_score, f1_score, confusion_matrix\n",
        "from tensorflow.keras.layers import Dense, Input\n",
        "from tensorflow.keras.models import Model\n",
        "from tensorflow.keras.losses import BinaryCrossentropy\n",
        "from tensorflow.keras.optimizers import Adam\n",
        "from wordcloud import WordCloud\n",
        "from nltk.corpus import stopwords"
      ],
      "metadata": {
        "id": "WZXo8bza411C"
      },
      "execution_count": null,
      "outputs": []
    },
    {
      "cell_type": "code",
      "source": [
        "nltk.download('stopwords')"
      ],
      "metadata": {
        "id": "9xXK_rJniIzG"
      },
      "execution_count": null,
      "outputs": []
    },
    {
      "cell_type": "code",
      "source": [
        "stops_espanol = set(stopwords.words('spanish')) # guardar stopwords en español"
      ],
      "metadata": {
        "id": "HrcoK2vmiLQX"
      },
      "execution_count": null,
      "outputs": []
    },
    {
      "cell_type": "code",
      "source": [
        "df = pd.read_excel('/content/drive/MyDrive/CURSO NLP/data/BBDD.xlsx')"
      ],
      "metadata": {
        "id": "E30MMjSi8eqx"
      },
      "execution_count": null,
      "outputs": []
    },
    {
      "cell_type": "code",
      "source": [
        "len(df)"
      ],
      "metadata": {
        "id": "pfF_n_A88mc_"
      },
      "execution_count": null,
      "outputs": []
    },
    {
      "cell_type": "code",
      "source": [
        "df"
      ],
      "metadata": {
        "id": "UcTNgVBM8owE"
      },
      "execution_count": null,
      "outputs": []
    },
    {
      "cell_type": "code",
      "source": [
        "df.dtypes"
      ],
      "metadata": {
        "id": "esj9Tn088stW"
      },
      "execution_count": null,
      "outputs": []
    },
    {
      "cell_type": "code",
      "source": [
        "df.head(5)"
      ],
      "metadata": {
        "id": "NnsoIHHy8y7a"
      },
      "execution_count": null,
      "outputs": []
    },
    {
      "cell_type": "code",
      "source": [
        "df['review_es'][0]"
      ],
      "metadata": {
        "id": "f9EM1bQy85Lo"
      },
      "execution_count": null,
      "outputs": []
    },
    {
      "cell_type": "code",
      "source": [
        "df['sentimiento'].values"
      ],
      "metadata": {
        "id": "8Yc049VQ9AHV"
      },
      "execution_count": null,
      "outputs": []
    },
    {
      "cell_type": "code",
      "source": [
        "df = df[['review_es', 'sentimiento']]"
      ],
      "metadata": {
        "id": "16BAKKo29RD6"
      },
      "execution_count": null,
      "outputs": []
    },
    {
      "cell_type": "code",
      "source": [
        "df"
      ],
      "metadata": {
        "id": "BwYAzj4p9fQ4"
      },
      "execution_count": null,
      "outputs": []
    },
    {
      "cell_type": "markdown",
      "source": [
        "# Etiquetado binario"
      ],
      "metadata": {
        "id": "Ni1RwSNbhhbz"
      }
    },
    {
      "cell_type": "code",
      "source": [
        "df['polaridad'] = df['sentimiento'].map({'positivo': 1, 'negativo': 0})"
      ],
      "metadata": {
        "id": "mtOb0umJ9yHD"
      },
      "execution_count": null,
      "outputs": []
    },
    {
      "cell_type": "code",
      "source": [
        "df"
      ],
      "metadata": {
        "id": "JZKMBy7Z-RHi"
      },
      "execution_count": null,
      "outputs": []
    },
    {
      "cell_type": "code",
      "source": [
        "df['review_es'][1]"
      ],
      "metadata": {
        "id": "h7E9TH9aelr-"
      },
      "execution_count": null,
      "outputs": []
    },
    {
      "cell_type": "code",
      "source": [
        "plt.hist(df['polaridad']);"
      ],
      "metadata": {
        "id": "IuxWUe9p-TV8"
      },
      "execution_count": null,
      "outputs": []
    },
    {
      "cell_type": "markdown",
      "source": [
        "# Wordcloud de las reviews"
      ],
      "metadata": {
        "id": "I5uaVx5_kDfI"
      }
    },
    {
      "cell_type": "code",
      "source": [
        "stops_espanol = set(stopwords.words('spanish'))"
      ],
      "metadata": {
        "id": "yHsPWCCRmbMA"
      },
      "execution_count": null,
      "outputs": []
    },
    {
      "cell_type": "code",
      "source": [
        "text = \" \".join(review for review in df['review_es'])\n",
        "\n",
        "# Generate the word cloud\n",
        "wordcloud = WordCloud().generate(text)\n",
        "\n",
        "# Display the word cloud\n",
        "plt.imshow(wordcloud, interpolation='bilinear')\n",
        "plt.axis(\"off\")\n",
        "plt.show()"
      ],
      "metadata": {
        "id": "xAbTm652qb7V"
      },
      "execution_count": null,
      "outputs": []
    },
    {
      "cell_type": "code",
      "source": [
        "text = \" \".join(review for review in df['review_es'])\n",
        "wordcloud = WordCloud(stopwords=stops_espanol).generate(text)\n",
        "plt.imshow(wordcloud, interpolation='bilinear')\n",
        "plt.axis(\"off\")\n",
        "plt.show()"
      ],
      "metadata": {
        "id": "ghGfBkb9kCTw"
      },
      "execution_count": null,
      "outputs": []
    },
    {
      "cell_type": "code",
      "source": [],
      "metadata": {
        "id": "DY-1s5hhnK-N"
      },
      "execution_count": null,
      "outputs": []
    },
    {
      "cell_type": "markdown",
      "source": [
        "# División de dataset en conjunto de entramiento y pruebas"
      ],
      "metadata": {
        "id": "o_PcEG53-t0m"
      }
    },
    {
      "cell_type": "code",
      "source": [
        "df_train, df_test = train_test_split(df,random_state=42)"
      ],
      "metadata": {
        "id": "QQGdHe5k-bMH"
      },
      "execution_count": null,
      "outputs": []
    },
    {
      "cell_type": "code",
      "source": [
        "vectorizer = TfidfVectorizer(stop_words=list(stops_espanol),max_features=2000)\n",
        "X_train = vectorizer.fit_transform(df_train['review_es'])\n",
        "X_test = vectorizer.fit_transform(df_test['review_es'])"
      ],
      "metadata": {
        "id": "cPrWkNyw-nrz"
      },
      "execution_count": null,
      "outputs": []
    },
    {
      "cell_type": "code",
      "source": [
        "X_train"
      ],
      "metadata": {
        "id": "TJZBo-U9_Joj"
      },
      "execution_count": null,
      "outputs": []
    },
    {
      "cell_type": "code",
      "source": [
        "X_test"
      ],
      "metadata": {
        "id": "bCNqCDSk_Mo6"
      },
      "execution_count": null,
      "outputs": []
    },
    {
      "cell_type": "code",
      "source": [
        "X_train = X_train.toarray()\n",
        "X_test = X_test.toarray()"
      ],
      "metadata": {
        "id": "cH3AREbz_TUL"
      },
      "execution_count": null,
      "outputs": []
    },
    {
      "cell_type": "code",
      "source": [
        "X_train"
      ],
      "metadata": {
        "id": "Ej41DL62_du_"
      },
      "execution_count": null,
      "outputs": []
    },
    {
      "cell_type": "code",
      "source": [
        "X_test"
      ],
      "metadata": {
        "id": "eyVfqzGl_f6M"
      },
      "execution_count": null,
      "outputs": []
    },
    {
      "cell_type": "code",
      "source": [
        "Y_train = df_train['polaridad']\n",
        "Y_test = df_test['polaridad']"
      ],
      "metadata": {
        "id": "VQfH1Ahm_kj2"
      },
      "execution_count": null,
      "outputs": []
    },
    {
      "cell_type": "code",
      "source": [
        "D = X_train.shape[1]\n",
        "print(D)"
      ],
      "metadata": {
        "id": "Z1_T925MAq6F"
      },
      "execution_count": null,
      "outputs": []
    },
    {
      "cell_type": "code",
      "source": [
        "i = Input(shape=(D,))\n",
        "x = Dense(1)(i)\n",
        "\n",
        "modelo = Model(i,x)"
      ],
      "metadata": {
        "id": "WPrH60hZA3UV"
      },
      "execution_count": null,
      "outputs": []
    },
    {
      "cell_type": "code",
      "source": [
        "modelo.summary()"
      ],
      "metadata": {
        "id": "FBeC0X1XBFUW"
      },
      "execution_count": null,
      "outputs": []
    },
    {
      "cell_type": "code",
      "source": [
        "modelo.compile(\n",
        "    loss= BinaryCrossentropy(from_logits=True),\n",
        "    optimizer = Adam(learning_rate = 0.01),\n",
        "    metrics=['accuracy']\n",
        ")"
      ],
      "metadata": {
        "id": "Bs_KYme_BH3W"
      },
      "execution_count": null,
      "outputs": []
    },
    {
      "cell_type": "code",
      "source": [
        "r = modelo.fit(\n",
        "    X_train, Y_train,\n",
        "    validation_data = (X_test, Y_test),\n",
        "    epochs=100,\n",
        "    batch_size=128\n",
        ")"
      ],
      "metadata": {
        "id": "9igyzvKZBoIR"
      },
      "execution_count": null,
      "outputs": []
    },
    {
      "cell_type": "code",
      "source": [
        "P_train = ((modelo.predict(X_train) > 0)*1.0).flatten()\n",
        "P_test = ((modelo.predict(X_test) > 0)*1.0).flatten()"
      ],
      "metadata": {
        "id": "izD2glUtCx8d"
      },
      "execution_count": null,
      "outputs": []
    },
    {
      "cell_type": "code",
      "source": [
        "matrix = confusion_matrix(Y_train, P_train, normalize = 'true')\n",
        "matrix"
      ],
      "metadata": {
        "id": "OjkmSeGTB86d"
      },
      "execution_count": null,
      "outputs": []
    },
    {
      "cell_type": "code",
      "source": [
        "classes = ['negativo', 'positivo']\n",
        "df_cm = pd.DataFrame(matrix, index=classes, columns = classes)\n",
        "ax = sns.heatmap(df_cm, annot=True, fmt='g')\n",
        "ax.set_xlabel('Predicción');\n",
        "ax.set_ylabel('Objetivo');"
      ],
      "metadata": {
        "id": "KL-sCWF5EXM9"
      },
      "execution_count": null,
      "outputs": []
    },
    {
      "cell_type": "code",
      "source": [
        "Pr_train = modelo.predict(X_train)\n",
        "Pr_test = modelo.predict(X_test)\n",
        "\n",
        "print(\"Train AUC: \", roc_auc_score(Y_train, Pr_train))\n",
        "print(\"Test AUC: \", roc_auc_score(Y_test, Pr_test))"
      ],
      "metadata": {
        "id": "_VrIn_QtE-X4"
      },
      "execution_count": null,
      "outputs": []
    },
    {
      "cell_type": "code",
      "source": [
        "print(\"Train F1: \", f1_score(Y_train, P_train))\n",
        "print(\"Test F1: \", f1_score(Y_test, P_test))"
      ],
      "metadata": {
        "id": "joBzBs_XF7T6"
      },
      "execution_count": null,
      "outputs": []
    },
    {
      "cell_type": "markdown",
      "source": [
        "# Reseña de ejemplo"
      ],
      "metadata": {
        "id": "RnPePC-nH7WN"
      }
    },
    {
      "cell_type": "code",
      "source": [
        "review = 'menuda mierda'\n",
        "review = vectorizer.transform([review]).toarray()"
      ],
      "metadata": {
        "id": "SpfSoHE0G1_X"
      },
      "execution_count": null,
      "outputs": []
    },
    {
      "cell_type": "code",
      "source": [
        "prediccion = modelo.predict(review)\n",
        "np.argmax(prediccion)"
      ],
      "metadata": {
        "id": "N88lJQplH4rQ"
      },
      "execution_count": null,
      "outputs": []
    }
  ]
}