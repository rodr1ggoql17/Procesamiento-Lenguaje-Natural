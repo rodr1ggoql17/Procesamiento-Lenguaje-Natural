{
  "nbformat": 4,
  "nbformat_minor": 0,
  "metadata": {
    "colab": {
      "private_outputs": true,
      "provenance": [],
      "authorship_tag": "ABX9TyMkVBOiBiPBaq1OS41c2W2i",
      "include_colab_link": true
    },
    "kernelspec": {
      "name": "python3",
      "display_name": "Python 3"
    },
    "language_info": {
      "name": "python"
    }
  },
  "cells": [
    {
      "cell_type": "markdown",
      "metadata": {
        "id": "view-in-github",
        "colab_type": "text"
      },
      "source": [
        "<a href=\"https://colab.research.google.com/github/rodr1ggoql17/Procesamiento-Lenguaje-Natural/blob/main/Resumenes_de_texto.ipynb\" target=\"_parent\"><img src=\"https://colab.research.google.com/assets/colab-badge.svg\" alt=\"Open In Colab\"/></a>"
      ]
    },
    {
      "cell_type": "code",
      "execution_count": null,
      "metadata": {
        "id": "s9duMZ8ZiMC6"
      },
      "outputs": [],
      "source": [
        "from google.colab import drive\n",
        "drive.mount('/content/drive/')"
      ]
    },
    {
      "cell_type": "markdown",
      "source": [
        "#Librerías necesarias"
      ],
      "metadata": {
        "id": "pNeML6B7i7uR"
      }
    },
    {
      "cell_type": "code",
      "source": [
        "import pandas as pd\n",
        "import numpy as np\n",
        "import textwrap\n",
        "import nltk\n",
        "from nltk.corpus import stopwords\n",
        "from nltk import word_tokenize\n",
        "from sklearn.feature_extraction.text import TfidfVectorizer"
      ],
      "metadata": {
        "id": "SduF5-dMijE2"
      },
      "execution_count": null,
      "outputs": []
    },
    {
      "cell_type": "code",
      "source": [
        "nltk.download('stopwords')"
      ],
      "metadata": {
        "id": "nxcai0yjmCYK"
      },
      "execution_count": null,
      "outputs": []
    },
    {
      "cell_type": "code",
      "source": [
        "df = pd.read_csv('/content/drive/MyDrive/CURSO NLP/data/df_total.csv')"
      ],
      "metadata": {
        "id": "ZMm_iJpUi-eq"
      },
      "execution_count": null,
      "outputs": []
    },
    {
      "cell_type": "code",
      "source": [
        "df.head()"
      ],
      "metadata": {
        "id": "aOV7Ris0jNxM"
      },
      "execution_count": null,
      "outputs": []
    },
    {
      "cell_type": "code",
      "source": [
        "df['news'][0]"
      ],
      "metadata": {
        "id": "ZoGZ-WUljVz4"
      },
      "execution_count": null,
      "outputs": []
    },
    {
      "cell_type": "code",
      "source": [
        "example = df['news'].sample()"
      ],
      "metadata": {
        "id": "mZCX8xfSjY4M"
      },
      "execution_count": null,
      "outputs": []
    },
    {
      "cell_type": "code",
      "source": [
        "example.iloc[0]"
      ],
      "metadata": {
        "id": "NnAsEAXDj9P_"
      },
      "execution_count": null,
      "outputs": []
    },
    {
      "cell_type": "code",
      "source": [
        "doc = textwrap.fill(example.iloc[0], replace_whitespace=False, fix_sentence_endings=True)"
      ],
      "metadata": {
        "id": "z_ZUFA2LkPnH"
      },
      "execution_count": null,
      "outputs": []
    },
    {
      "cell_type": "code",
      "source": [
        "lineas = doc.split('.')"
      ],
      "metadata": {
        "id": "jmpLF5xYkmLO"
      },
      "execution_count": null,
      "outputs": []
    },
    {
      "cell_type": "code",
      "source": [
        "lineas"
      ],
      "metadata": {
        "id": "1v0ZoMezk_0b"
      },
      "execution_count": null,
      "outputs": []
    },
    {
      "cell_type": "code",
      "source": [
        "tokenizar = TfidfVectorizer(\n",
        "    stop_words = stopwords.words('spanish'),\n",
        "    norm='l1'\n",
        ")\n",
        "\n",
        "X = tokenizar.fit_transform(lineas)\n",
        "X"
      ],
      "metadata": {
        "id": "dEYHWf1mlBeE"
      },
      "execution_count": null,
      "outputs": []
    },
    {
      "cell_type": "code",
      "source": [
        "filas , columnas = X.shape\n",
        "\n",
        "for i in range(filas):\n",
        "  for j in range(columnas):\n",
        "    print(X[i,j], end = ' ')\n",
        "  print()"
      ],
      "metadata": {
        "id": "sV8ydOdhmIW1"
      },
      "execution_count": null,
      "outputs": []
    },
    {
      "cell_type": "code",
      "source": [
        "def obtener_score(tfidf_row):\n",
        "  x = tfidf_row[tfidf_row!=0]\n",
        "  return x.mean()"
      ],
      "metadata": {
        "id": "dRx0nw64mlhG"
      },
      "execution_count": null,
      "outputs": []
    },
    {
      "cell_type": "code",
      "source": [
        "scores = np.zeros(len(lineas))\n",
        "for i in range(len(lineas)):\n",
        "  score = obtener_score(X[i,:])\n",
        "  scores[i] = score"
      ],
      "metadata": {
        "id": "VYrMMNlxmmga"
      },
      "execution_count": null,
      "outputs": []
    },
    {
      "cell_type": "code",
      "source": [
        "scores"
      ],
      "metadata": {
        "id": "ieSQC60ammbW"
      },
      "execution_count": null,
      "outputs": []
    },
    {
      "cell_type": "code",
      "source": [
        "sort_idx = np.argsort(-scores)"
      ],
      "metadata": {
        "id": "VXNQ5x_BmmYx"
      },
      "execution_count": null,
      "outputs": []
    },
    {
      "cell_type": "code",
      "source": [
        "sort_idx"
      ],
      "metadata": {
        "id": "qBNs9IQZnay2"
      },
      "execution_count": null,
      "outputs": []
    },
    {
      "cell_type": "code",
      "source": [
        "print('resumen :')\n",
        "oraciones = []\n",
        "for i in range(0,5):\n",
        "  oraciones.append([sort_idx[i], scores[sort_idx[i]], lineas[sort_idx[i]]])\n",
        "  print(f\"{scores[sort_idx[i]]}: {lineas[sort_idx[i]]}\")"
      ],
      "metadata": {
        "id": "J8YYnXE1mmWm"
      },
      "execution_count": null,
      "outputs": []
    },
    {
      "cell_type": "code",
      "source": [
        "oraciones_ord = sorted(oraciones, key=lambda x: x[0])\n",
        "\n",
        "for item in oraciones_ord:\n",
        "  print(item[2])"
      ],
      "metadata": {
        "id": "usgrCVCammTb"
      },
      "execution_count": null,
      "outputs": []
    },
    {
      "cell_type": "code",
      "source": [],
      "metadata": {
        "id": "AhSt7R0JmmQG"
      },
      "execution_count": null,
      "outputs": []
    }
  ]
}