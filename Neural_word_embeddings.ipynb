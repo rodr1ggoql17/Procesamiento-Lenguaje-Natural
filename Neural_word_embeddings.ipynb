{
  "nbformat": 4,
  "nbformat_minor": 0,
  "metadata": {
    "colab": {
      "private_outputs": true,
      "provenance": [],
      "authorship_tag": "ABX9TyMH2IE0xKPLYLEJ1vzp9/6K",
      "include_colab_link": true
    },
    "kernelspec": {
      "name": "python3",
      "display_name": "Python 3"
    },
    "language_info": {
      "name": "python"
    }
  },
  "cells": [
    {
      "cell_type": "markdown",
      "metadata": {
        "id": "view-in-github",
        "colab_type": "text"
      },
      "source": [
        "<a href=\"https://colab.research.google.com/github/rodr1ggoql17/Procesamiento-Lenguaje-Natural/blob/main/Neural_word_embeddings.ipynb\" target=\"_parent\"><img src=\"https://colab.research.google.com/assets/colab-badge.svg\" alt=\"Open In Colab\"/></a>"
      ]
    },
    {
      "cell_type": "markdown",
      "source": [
        "# Métodos de vectorización\n",
        "\n",
        "\n",
        "*   Conversión de documentos en vectores\n",
        "*   Palabras a vectores\n",
        "*   Descripción de la representación de documentos mediante una secuencia de vectores (Embeddings)\n",
        "\n"
      ],
      "metadata": {
        "id": "k5PpoWnDloso"
      }
    },
    {
      "cell_type": "markdown",
      "source": [
        "# Modelos para secuencias en aprendizaje profundo\n",
        "\n",
        "\n",
        "*   Modelos contruidos para secuencias (CNN,RNN, Transformers)\n",
        "*   Relevancia del orden de las palabras en una sentencia\n",
        "\n",
        "**Aplicaciones**\n",
        "\n",
        "\n",
        "1.   Traducción de idiomas\n",
        "2.   Respuesta a preguntas\n",
        "3.   ChatBots\n",
        "\n",
        "\n",
        "\n"
      ],
      "metadata": {
        "id": "-IVeYV_Ul-Or"
      }
    },
    {
      "cell_type": "markdown",
      "source": [
        "# Embeddings, representaciones de palabras en forma de vector.\n",
        "1. Introducción a Word2Vec\n",
        "2. Uso de redes neuronales en Word2Vec Arquitectura(continuous bag of words CBOW y Skip-gram)\n",
        "3. Descripción de Glove y su relación con los sistemas de recomendación\n",
        "\n",
        "\n",
        "Word embeddings capturan el contexto, esa es la ventaja.\n"
      ],
      "metadata": {
        "id": "z33lMvg_oDFm"
      }
    },
    {
      "cell_type": "markdown",
      "source": [
        "# Ejemplos de Word Embeddings: Analogías"
      ],
      "metadata": {
        "id": "WROBicImqtoQ"
      }
    },
    {
      "cell_type": "code",
      "source": [
        "!pip install gensim -q"
      ],
      "metadata": {
        "id": "NJt-xGhAqyV5"
      },
      "execution_count": null,
      "outputs": []
    },
    {
      "cell_type": "code",
      "source": [
        "import gensim\n",
        "from google.colab import drive\n",
        "drive.mount('/content/drive')"
      ],
      "metadata": {
        "id": "D60DhsTcsGf_"
      },
      "execution_count": null,
      "outputs": []
    },
    {
      "cell_type": "code",
      "source": [
        "vectores = gensim.models.KeyedVectors.load_word2vec_format('/content/drive/MyDrive/CURSO NLP/data/SBW-vectors-300-min5.txt')"
      ],
      "metadata": {
        "id": "QAaKtVdrsXzv"
      },
      "execution_count": null,
      "outputs": []
    },
    {
      "cell_type": "code",
      "source": [
        "def analogia(v1,v2,v3):\n",
        "  similitud = vectores.most_similar(positive=[v1,v2], negative=[v3])\n",
        "  print(f\"{v1} es a {v2} como {similitud[0][0]} es a {v3}\")"
      ],
      "metadata": {
        "id": "pJiBPCsEsljm"
      },
      "execution_count": null,
      "outputs": []
    },
    {
      "cell_type": "code",
      "source": [
        "similitud = vectores.most_similar(positive=['rey','hombre'], negative=['mujer'])\n",
        "similitud"
      ],
      "metadata": {
        "id": "kcm9VNu_uaWz"
      },
      "execution_count": null,
      "outputs": []
    },
    {
      "cell_type": "code",
      "source": [
        "similitud = vectores.most_similar(positive=['Rey','Hombre'], negative=['Mujer'])\n",
        "similitud"
      ],
      "metadata": {
        "id": "gbYNsWK7ux6m"
      },
      "execution_count": null,
      "outputs": []
    },
    {
      "cell_type": "code",
      "source": [
        "analogia('rey', 'hombre', 'mujer')"
      ],
      "metadata": {
        "id": "kPpUPrXqtoE6"
      },
      "execution_count": null,
      "outputs": []
    },
    {
      "cell_type": "code",
      "source": [
        "analogia('vaca', 'leche', 'huevo')"
      ],
      "metadata": {
        "id": "WJ5_f0A2vIC6"
      },
      "execution_count": null,
      "outputs": []
    },
    {
      "cell_type": "code",
      "source": [
        "similitud = vectores.most_similar(positive=['rey'])\n",
        "similitud"
      ],
      "metadata": {
        "id": "qt3fq8jYvvWh"
      },
      "execution_count": null,
      "outputs": []
    },
    {
      "cell_type": "code",
      "source": [
        "def palabras_cercanas(v):\n",
        "  vecinos = vectores.most_similar(positive=[v])\n",
        "  print(\"vecinos de %s\" % v)\n",
        "  for word, score in vecinos:\n",
        "    print('%s ' % word)"
      ],
      "metadata": {
        "id": "K0vtD-6Wv7QX"
      },
      "execution_count": null,
      "outputs": []
    },
    {
      "cell_type": "code",
      "source": [
        "palabras_cercanas('rey')"
      ],
      "metadata": {
        "id": "3f8s1IWswbTH"
      },
      "execution_count": null,
      "outputs": []
    },
    {
      "cell_type": "code",
      "source": [
        "palabras_cercanas('Chile')"
      ],
      "metadata": {
        "id": "PleoWwVxwhqH"
      },
      "execution_count": null,
      "outputs": []
    },
    {
      "cell_type": "code",
      "source": [
        "palabras_cercanas('chile')"
      ],
      "metadata": {
        "id": "ldBdzqTEwp9s"
      },
      "execution_count": null,
      "outputs": []
    },
    {
      "cell_type": "code",
      "source": [
        "palabras_cercanas('computador')"
      ],
      "metadata": {
        "id": "quWyVplJwsJr"
      },
      "execution_count": null,
      "outputs": []
    },
    {
      "cell_type": "code",
      "source": [
        "palabras_cercanas('botella')"
      ],
      "metadata": {
        "id": "ORdR8pevwvNW"
      },
      "execution_count": null,
      "outputs": []
    },
    {
      "cell_type": "code",
      "source": [
        "palabras_cercanas('futbol')"
      ],
      "metadata": {
        "id": "bEcsBqXcwzVx"
      },
      "execution_count": null,
      "outputs": []
    }
  ]
}