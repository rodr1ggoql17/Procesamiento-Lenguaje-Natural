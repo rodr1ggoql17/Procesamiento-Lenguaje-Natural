{
  "nbformat": 4,
  "nbformat_minor": 0,
  "metadata": {
    "colab": {
      "private_outputs": true,
      "provenance": [],
      "gpuType": "T4",
      "mount_file_id": "1Y8YJNAVgSlRuP1B6pbXt7fHiCDAVukzB",
      "authorship_tag": "ABX9TyPlhBgPDx0bi1jVqyxPl1gx",
      "include_colab_link": true
    },
    "kernelspec": {
      "name": "python3",
      "display_name": "Python 3"
    },
    "language_info": {
      "name": "python"
    },
    "accelerator": "GPU"
  },
  "cells": [
    {
      "cell_type": "markdown",
      "metadata": {
        "id": "view-in-github",
        "colab_type": "text"
      },
      "source": [
        "<a href=\"https://colab.research.google.com/github/rodr1ggoql17/Procesamiento-Lenguaje-Natural/blob/main/Similitud_de_vectores_y_recomendacion_de_peliculas.ipynb\" target=\"_parent\"><img src=\"https://colab.research.google.com/assets/colab-badge.svg\" alt=\"Open In Colab\"/></a>"
      ]
    },
    {
      "cell_type": "markdown",
      "source": [
        "#Aplicacion en similitud de vectores\n",
        "\n",
        "\n",
        "*   Similitud de documentos\n",
        "*   Spinning de artículos y SEO\n",
        "*   Recomendaciones\n",
        "*   ChatBots\n",
        "\n"
      ],
      "metadata": {
        "id": "NMtVTh3FjeHV"
      }
    },
    {
      "cell_type": "markdown",
      "source": [
        "#Calculo de similitud de vectores\n",
        "\n",
        "\n",
        "*   Distancia Euclidiana\n",
        "*   Ángulo entre vectores\n",
        "\n",
        "\n",
        "En el contexto del PLN se utiliza más a menudo la similitud del coseno porque toma en cuenta el ángulo entre los dos vectores, que puede ser más relevante en contexto donde los vectores son textos o palabras\n",
        "\n",
        "\n",
        "---\n",
        "\n",
        "\n"
      ],
      "metadata": {
        "id": "lbl4I4Flj_Gf"
      }
    },
    {
      "cell_type": "markdown",
      "source": [
        "#Aplicación método TF-IDF\n",
        "\n",
        "term frequency (TF) e inverse document frequency (IDF)\n",
        "\n",
        "**¿Qué es el método TF-IDF?**\n",
        "\n",
        "Problemas con el método de conteo\n",
        "\n",
        "\n",
        "*   No toma en cuenta la relevancia de las palabras\n",
        "*   TF-IDF reduce el pesos de las palabras comunes y aumento el peso de las palabras que no se utilizan con frecuencia\n",
        "\n",
        "\n",
        "\n",
        "Ambiguedad y especificidad de las stop-words dependiendo de la aplicación\n",
        "\n",
        "\n",
        "*   No todas las palabras comunes son stop-words en todas las situaciones, por ejemplo, \"no\" podría ser una stop-word en muchos contextos, pero no es un análisis de sentimientos, donde podría ser una palabra clave\n",
        "\n",
        "\n",
        "---\n",
        "\n",
        "\n",
        "\n",
        "\n",
        "#Funcionamiento de TF-IDF\n",
        "funciona al asignar un puntaje a cada palabra en un documento en función de su frecuencia en ese documento (TF) y su frecuencia en todos los documentos (IDF)\n",
        "\n",
        "Cuanto más a menudo aparece una palabra en un solo documento, pero menos a menudo en todos los documentos, mayor es su puntaje TF-IDF\n",
        "\n",
        "Las palabras que aparecen con más frecuencia en un documento pero raramente en otros documentos son más importantes"
      ],
      "metadata": {
        "id": "yV5LIw11mssF"
      }
    },
    {
      "cell_type": "markdown",
      "source": [
        "#Ejemplo con sistema de recomendación de peliculas"
      ],
      "metadata": {
        "id": "vgYmu0ixhedz"
      }
    },
    {
      "cell_type": "code",
      "execution_count": null,
      "metadata": {
        "id": "OZkukSC6jThJ"
      },
      "outputs": [],
      "source": [
        "import pandas as pd\n",
        "from google.colab import drive\n",
        "drive.mount('/content/drive')"
      ]
    },
    {
      "cell_type": "code",
      "source": [
        "df = pd.read_csv('/content/drive/MyDrive/CURSO NLP/data/movie_metadata.csv')"
      ],
      "metadata": {
        "id": "8KI6ia7DolDz"
      },
      "execution_count": null,
      "outputs": []
    },
    {
      "cell_type": "code",
      "source": [
        "df"
      ],
      "metadata": {
        "id": "uVbcTMLGpBCh"
      },
      "execution_count": null,
      "outputs": []
    },
    {
      "cell_type": "code",
      "source": [
        "df.info()"
      ],
      "metadata": {
        "id": "v8_c_5JYpGhK"
      },
      "execution_count": null,
      "outputs": []
    },
    {
      "cell_type": "code",
      "source": [
        "#df = df.rename(columns={'Edad': 'Años'})\n",
        "df = df.rename(columns={'genres':'genero'})"
      ],
      "metadata": {
        "id": "Bfij0M8DpMZ2"
      },
      "execution_count": null,
      "outputs": []
    },
    {
      "cell_type": "code",
      "source": [
        "df['genero']"
      ],
      "metadata": {
        "id": "y2ydrwm0pveP"
      },
      "execution_count": null,
      "outputs": []
    },
    {
      "cell_type": "code",
      "source": [
        "# limpiar la data\n",
        "df['genero'] = df['genero'].str.replace('|',' ')\n",
        "df['genero']"
      ],
      "metadata": {
        "id": "u_HaQC_1pzFz"
      },
      "execution_count": null,
      "outputs": []
    },
    {
      "cell_type": "code",
      "source": [
        "df['plot_keywords'] = df['plot_keywords'].str.replace('|',' ')\n",
        "df['plot_keywords']"
      ],
      "metadata": {
        "id": "PhsfqsTkqO9b"
      },
      "execution_count": null,
      "outputs": []
    },
    {
      "cell_type": "code",
      "source": [
        "# juntar columna de plot_keywords y genero para hacer una nueva columna texto\n",
        "df['texto'] = df[['genero','plot_keywords']].apply(lambda row: ' '.join(row.values.astype(str)), axis=1)"
      ],
      "metadata": {
        "id": "fBokSqJaqinb"
      },
      "execution_count": null,
      "outputs": []
    },
    {
      "cell_type": "code",
      "source": [
        "df['texto']"
      ],
      "metadata": {
        "id": "TRrRGh9XrQZN"
      },
      "execution_count": null,
      "outputs": []
    },
    {
      "cell_type": "code",
      "source": [
        "row = df[['genero','plot_keywords','texto']].iloc[0]\n",
        "print(row)"
      ],
      "metadata": {
        "id": "mXUWzkpjrUO2"
      },
      "execution_count": null,
      "outputs": []
    },
    {
      "cell_type": "code",
      "source": [
        "texto_uno = df['texto'].iloc[0]\n",
        "print(texto_uno)"
      ],
      "metadata": {
        "id": "OCWESUYmr3C-"
      },
      "execution_count": null,
      "outputs": []
    },
    {
      "cell_type": "markdown",
      "source": [
        "# Explicacion de TF-IDF"
      ],
      "metadata": {
        "id": "zFTIVmrmsJ7z"
      }
    },
    {
      "cell_type": "code",
      "source": [
        "from sklearn.feature_extraction.text import TfidfVectorizer\n",
        "from sklearn.metrics.pairwise import cosine_similarity, euclidean_distances"
      ],
      "metadata": {
        "id": "FpQ41AWHsCfm"
      },
      "execution_count": null,
      "outputs": []
    },
    {
      "cell_type": "code",
      "source": [
        "tfidf = TfidfVectorizer(max_features=2000) #cantidad maxima de tokens"
      ],
      "metadata": {
        "id": "QxSKl3V5shFe"
      },
      "execution_count": null,
      "outputs": []
    },
    {
      "cell_type": "code",
      "source": [
        "X = tfidf.fit_transform(df['texto'])"
      ],
      "metadata": {
        "id": "vaiDJI8QsuyP"
      },
      "execution_count": null,
      "outputs": []
    },
    {
      "cell_type": "code",
      "source": [
        "X"
      ],
      "metadata": {
        "id": "pt7CsqlMs5Z4"
      },
      "execution_count": null,
      "outputs": []
    },
    {
      "cell_type": "code",
      "source": [
        "peliculas = pd.Series(df.index, index=df['movie_title'])\n",
        "peliculas"
      ],
      "metadata": {
        "id": "FTqnGobAs_aB"
      },
      "execution_count": null,
      "outputs": []
    },
    {
      "cell_type": "code",
      "source": [
        "#eliminar los espacios del inicio y el final\n",
        "peliculas.index = peliculas.index.str.strip()"
      ],
      "metadata": {
        "id": "45bd8YjEtVX3"
      },
      "execution_count": null,
      "outputs": []
    },
    {
      "cell_type": "code",
      "source": [
        "peliculas"
      ],
      "metadata": {
        "id": "WFVJzsTmtvbn"
      },
      "execution_count": null,
      "outputs": []
    },
    {
      "cell_type": "code",
      "source": [
        "indice = peliculas['The Dark Knight Rises']\n",
        "indice"
      ],
      "metadata": {
        "id": "EnqdoN-tt5wI"
      },
      "execution_count": null,
      "outputs": []
    },
    {
      "cell_type": "code",
      "source": [
        "#mostraremos el vector de The Dark Knight Rises, donde es de 2000 dimensiones\n",
        "vector_indice = X[indice]\n",
        "vector_indice"
      ],
      "metadata": {
        "id": "yIv6x7M_uD7Y"
      },
      "execution_count": null,
      "outputs": []
    },
    {
      "cell_type": "code",
      "source": [
        "vector_indice.toarray()"
      ],
      "metadata": {
        "id": "yqbJG0cSuk7u"
      },
      "execution_count": null,
      "outputs": []
    },
    {
      "cell_type": "code",
      "source": [
        "similitud = cosine_similarity(vector_indice, X)"
      ],
      "metadata": {
        "id": "-nb5hO2luuyJ"
      },
      "execution_count": null,
      "outputs": []
    },
    {
      "cell_type": "code",
      "source": [
        "similitud[0][3]"
      ],
      "metadata": {
        "id": "XXgGbBniu44p"
      },
      "execution_count": null,
      "outputs": []
    },
    {
      "cell_type": "code",
      "source": [
        "similitud = similitud.flatten()"
      ],
      "metadata": {
        "id": "2RZoYuxgvT46"
      },
      "execution_count": null,
      "outputs": []
    },
    {
      "cell_type": "code",
      "source": [
        "similitud[3]"
      ],
      "metadata": {
        "id": "X1ircOtqvX4B"
      },
      "execution_count": null,
      "outputs": []
    },
    {
      "cell_type": "code",
      "source": [
        "import matplotlib.pyplot as plt\n",
        "plt.plot(similitud)"
      ],
      "metadata": {
        "id": "N2RcM11_vcEI"
      },
      "execution_count": null,
      "outputs": []
    },
    {
      "cell_type": "code",
      "source": [
        "# ploteamos el elementos que coindice The Dark Knight Rises , ahora\n",
        "# mostraremos las similitudes en orden descendente\n",
        "(-similitud).argsort()"
      ],
      "metadata": {
        "id": "iEaIOJ-9vwBK"
      },
      "execution_count": null,
      "outputs": []
    },
    {
      "cell_type": "code",
      "source": [
        "plt.plot(similitud[(-similitud).argsort()])"
      ],
      "metadata": {
        "id": "Dq5lObdBwCkB"
      },
      "execution_count": null,
      "outputs": []
    },
    {
      "cell_type": "code",
      "source": [
        "# recomendacion de 10 peliculas si viste The Dark Knight Rises (similitud)\n",
        "recomendacion = (-similitud).argsort()[1:11]\n",
        "df['movie_title'].iloc[recomendacion]\n"
      ],
      "metadata": {
        "id": "PXMFLI8Mwh1c"
      },
      "execution_count": null,
      "outputs": []
    },
    {
      "cell_type": "markdown",
      "source": [
        "# Ejemplo con otro titulo (pelicula)"
      ],
      "metadata": {
        "id": "pKPprS1hxZvy"
      }
    },
    {
      "cell_type": "code",
      "source": [
        "indice = peliculas['Avatar']\n",
        "indice"
      ],
      "metadata": {
        "id": "-NzU5aWmxdmq"
      },
      "execution_count": null,
      "outputs": []
    },
    {
      "cell_type": "code",
      "source": [
        "vector_indice = X[indice]\n",
        "vector_indice"
      ],
      "metadata": {
        "id": "FbxrnYGwxuqS"
      },
      "execution_count": null,
      "outputs": []
    },
    {
      "cell_type": "code",
      "source": [
        "vector_indice.toarray()"
      ],
      "metadata": {
        "id": "CDzVXcOkxxbM"
      },
      "execution_count": null,
      "outputs": []
    },
    {
      "cell_type": "code",
      "source": [
        "similitud = cosine_similarity(vector_indice, X)"
      ],
      "metadata": {
        "id": "W9L7wBlRx017"
      },
      "execution_count": null,
      "outputs": []
    },
    {
      "cell_type": "code",
      "source": [
        "similitud[0][0]"
      ],
      "metadata": {
        "id": "POo5F1tBx3Rz"
      },
      "execution_count": null,
      "outputs": []
    },
    {
      "cell_type": "code",
      "source": [
        "similitud = similitud.flatten()"
      ],
      "metadata": {
        "id": "jJbcB-LOx9DC"
      },
      "execution_count": null,
      "outputs": []
    },
    {
      "cell_type": "code",
      "source": [
        "similitud[0]"
      ],
      "metadata": {
        "id": "Stdk6bGLyDfb"
      },
      "execution_count": null,
      "outputs": []
    },
    {
      "cell_type": "code",
      "source": [
        "plt.plot(similitud)"
      ],
      "metadata": {
        "id": "TOXhzGrPyHdr"
      },
      "execution_count": null,
      "outputs": []
    },
    {
      "cell_type": "code",
      "source": [
        "# ploteamos el elementos que coindice 'Avatar' , ahora\n",
        "# mostraremos las similitudes en orden descendente\n",
        "(-similitud).argsort()"
      ],
      "metadata": {
        "id": "IH5DMrk8yM57"
      },
      "execution_count": null,
      "outputs": []
    },
    {
      "cell_type": "code",
      "source": [
        "plt.plot(similitud[(-similitud).argsort()])"
      ],
      "metadata": {
        "id": "1xPTrp8ryTHT"
      },
      "execution_count": null,
      "outputs": []
    },
    {
      "cell_type": "code",
      "source": [
        "# recomendacion de 10 peliculas si viste avatar (similitud)\n",
        "recomendacion = (-similitud).argsort()[1:11]\n",
        "df['movie_title'].iloc[recomendacion]\n"
      ],
      "metadata": {
        "id": "P2EEcAXsyZlb"
      },
      "execution_count": null,
      "outputs": []
    }
  ]
}